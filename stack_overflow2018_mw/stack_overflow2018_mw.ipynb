{
 "cells": [
  {
   "cell_type": "markdown",
   "metadata": {},
   "source": [
    "# Stack Overflow 2018 Differenceces Between Men and Women\n",
    "\n",
    "### Author:Ailin MacHugh"
   ]
  },
  {
   "cell_type": "markdown",
   "metadata": {},
   "source": [
    "## Introduction \n",
    "I was asked to investage if there was any  differenceces betweent men and women  who code for a living, using the [2018 Stack Overflow Devloper Servey](https://www.kaggle.com/stackoverflow/stack-overflow-2018-developer-survey) which is hsoted on the Kaggel website.\n",
    "\n",
    "\n",
    "\n",
    "\n",
    "\n",
    "The main questions I was asked to investage were \n",
    "\n",
    "1. Is there a pay gap netween men and women?\n",
    "2. Is there an age difference?\n",
    "3. Lifestyle.\n",
    "4. Is there a perference of programmimg lanuages/framework/Tools/Operating System/Software Devlopmnt Culture?\n",
    "\n",
    "\n",
    "\n",
    "\n",
    "\n"
   ]
  },
  {
   "cell_type": "code",
   "execution_count": null,
   "metadata": {},
   "outputs": [],
   "source": []
  }
 ],
 "metadata": {
  "kernelspec": {
   "display_name": "Python 3",
   "language": "python",
   "name": "python3"
  },
  "language_info": {
   "codemirror_mode": {
    "name": "ipython",
    "version": 3
   },
   "file_extension": ".py",
   "mimetype": "text/x-python",
   "name": "python",
   "nbconvert_exporter": "python",
   "pygments_lexer": "ipython3",
   "version": "3.6.5"
  }
 },
 "nbformat": 4,
 "nbformat_minor": 2
}
